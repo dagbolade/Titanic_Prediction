{
 "nbformat": 4,
 "nbformat_minor": 0,
 "metadata": {
  "colab": {
   "provenance": []
  },
  "kernelspec": {
   "name": "python3",
   "language": "python",
   "display_name": "Python 3 (ipykernel)"
  },
  "language_info": {
   "name": "python"
  }
 },
 "cells": [
  {
   "cell_type": "code",
   "execution_count": 1,
   "metadata": {
    "id": "j-81QZZZOd1i",
    "colab": {
     "base_uri": "https://localhost:8080/"
    },
    "outputId": "4be94450-577e-4e65-dbb1-788041382333",
    "ExecuteTime": {
     "end_time": "2023-10-31T10:22:03.885834600Z",
     "start_time": "2023-10-31T10:22:02.325567900Z"
    }
   },
   "outputs": [
    {
     "name": "stdout",
     "output_type": "stream",
     "text": [
      "(891, 12)\n"
     ]
    }
   ],
   "source": [
    "import pandas as pd\n",
    "import numpy as np\n",
    "import matplotlib.pyplot as plt\n",
    "import seaborn as sns\n",
    "\n",
    "from sklearn.linear_model import LogisticRegression\n",
    "TData = pd.read_csv('TitanicData.csv', encoding= 'unicode_escape')\n",
    "print(TData.shape)"
   ]
  },
  {
   "cell_type": "code",
   "source": [
    "TData.head()"
   ],
   "metadata": {
    "colab": {
     "base_uri": "https://localhost:8080/",
     "height": 258
    },
    "id": "1TCvddTV1fdr",
    "outputId": "db7a2fbc-5620-4cf0-dfec-6b2f6e9cce48",
    "ExecuteTime": {
     "end_time": "2023-10-31T10:24:54.024819Z",
     "start_time": "2023-10-31T10:24:53.913623300Z"
    }
   },
   "execution_count": 3,
   "outputs": [
    {
     "data": {
      "text/plain": "   PassengerId  Survived  Pclass  \\\n0            1         0       3   \n1            2         1       1   \n2            3         1       3   \n3            4         1       1   \n4            5         0       3   \n\n                                                Name     Sex   Age  SibSp  \\\n0                            Braund, Mr. Owen Harris    male  22.0      1   \n1  Cumings, Mrs. John Bradley (Florence Briggs Th...  female  38.0      1   \n2                             Heikkinen, Miss. Laina  female  26.0      0   \n3       Futrelle, Mrs. Jacques Heath (Lily May Peel)  female  35.0      1   \n4                           Allen, Mr. William Henry    male  35.0      0   \n\n   Parch            Ticket     Fare Cabin Embarked  \n0      0         A/5 21171   7.2500   NaN        S  \n1      0          PC 17599  71.2833   C85        C  \n2      0  STON/O2. 3101282   7.9250   NaN        S  \n3      0            113803  53.1000  C123        S  \n4      0            373450   8.0500   NaN        S  ",
      "text/html": "<div>\n<style scoped>\n    .dataframe tbody tr th:only-of-type {\n        vertical-align: middle;\n    }\n\n    .dataframe tbody tr th {\n        vertical-align: top;\n    }\n\n    .dataframe thead th {\n        text-align: right;\n    }\n</style>\n<table border=\"1\" class=\"dataframe\">\n  <thead>\n    <tr style=\"text-align: right;\">\n      <th></th>\n      <th>PassengerId</th>\n      <th>Survived</th>\n      <th>Pclass</th>\n      <th>Name</th>\n      <th>Sex</th>\n      <th>Age</th>\n      <th>SibSp</th>\n      <th>Parch</th>\n      <th>Ticket</th>\n      <th>Fare</th>\n      <th>Cabin</th>\n      <th>Embarked</th>\n    </tr>\n  </thead>\n  <tbody>\n    <tr>\n      <th>0</th>\n      <td>1</td>\n      <td>0</td>\n      <td>3</td>\n      <td>Braund, Mr. Owen Harris</td>\n      <td>male</td>\n      <td>22.0</td>\n      <td>1</td>\n      <td>0</td>\n      <td>A/5 21171</td>\n      <td>7.2500</td>\n      <td>NaN</td>\n      <td>S</td>\n    </tr>\n    <tr>\n      <th>1</th>\n      <td>2</td>\n      <td>1</td>\n      <td>1</td>\n      <td>Cumings, Mrs. John Bradley (Florence Briggs Th...</td>\n      <td>female</td>\n      <td>38.0</td>\n      <td>1</td>\n      <td>0</td>\n      <td>PC 17599</td>\n      <td>71.2833</td>\n      <td>C85</td>\n      <td>C</td>\n    </tr>\n    <tr>\n      <th>2</th>\n      <td>3</td>\n      <td>1</td>\n      <td>3</td>\n      <td>Heikkinen, Miss. Laina</td>\n      <td>female</td>\n      <td>26.0</td>\n      <td>0</td>\n      <td>0</td>\n      <td>STON/O2. 3101282</td>\n      <td>7.9250</td>\n      <td>NaN</td>\n      <td>S</td>\n    </tr>\n    <tr>\n      <th>3</th>\n      <td>4</td>\n      <td>1</td>\n      <td>1</td>\n      <td>Futrelle, Mrs. Jacques Heath (Lily May Peel)</td>\n      <td>female</td>\n      <td>35.0</td>\n      <td>1</td>\n      <td>0</td>\n      <td>113803</td>\n      <td>53.1000</td>\n      <td>C123</td>\n      <td>S</td>\n    </tr>\n    <tr>\n      <th>4</th>\n      <td>5</td>\n      <td>0</td>\n      <td>3</td>\n      <td>Allen, Mr. William Henry</td>\n      <td>male</td>\n      <td>35.0</td>\n      <td>0</td>\n      <td>0</td>\n      <td>373450</td>\n      <td>8.0500</td>\n      <td>NaN</td>\n      <td>S</td>\n    </tr>\n  </tbody>\n</table>\n</div>"
     },
     "execution_count": 3,
     "metadata": {},
     "output_type": "execute_result"
    }
   ]
  },
  {
   "cell_type": "code",
   "source": [
    "TData.describe()"
   ],
   "metadata": {
    "colab": {
     "base_uri": "https://localhost:8080/",
     "height": 300
    },
    "id": "nx1lqLeQyUhr",
    "outputId": "c5dcf220-5d4b-452e-af03-67529b00739f",
    "ExecuteTime": {
     "end_time": "2023-10-31T10:29:35.536869800Z",
     "start_time": "2023-10-31T10:29:35.425452300Z"
    }
   },
   "execution_count": 4,
   "outputs": [
    {
     "data": {
      "text/plain": "       PassengerId    Survived      Pclass         Age       SibSp  \\\ncount   891.000000  891.000000  891.000000  714.000000  891.000000   \nmean    446.000000    0.383838    2.308642   29.699118    0.523008   \nstd     257.353842    0.486592    0.836071   14.526497    1.102743   \nmin       1.000000    0.000000    1.000000    0.420000    0.000000   \n25%     223.500000    0.000000    2.000000   20.125000    0.000000   \n50%     446.000000    0.000000    3.000000   28.000000    0.000000   \n75%     668.500000    1.000000    3.000000   38.000000    1.000000   \nmax     891.000000    1.000000    3.000000   80.000000    8.000000   \n\n            Parch        Fare  \ncount  891.000000  891.000000  \nmean     0.381594   32.204208  \nstd      0.806057   49.693429  \nmin      0.000000    0.000000  \n25%      0.000000    7.910400  \n50%      0.000000   14.454200  \n75%      0.000000   31.000000  \nmax      6.000000  512.329200  ",
      "text/html": "<div>\n<style scoped>\n    .dataframe tbody tr th:only-of-type {\n        vertical-align: middle;\n    }\n\n    .dataframe tbody tr th {\n        vertical-align: top;\n    }\n\n    .dataframe thead th {\n        text-align: right;\n    }\n</style>\n<table border=\"1\" class=\"dataframe\">\n  <thead>\n    <tr style=\"text-align: right;\">\n      <th></th>\n      <th>PassengerId</th>\n      <th>Survived</th>\n      <th>Pclass</th>\n      <th>Age</th>\n      <th>SibSp</th>\n      <th>Parch</th>\n      <th>Fare</th>\n    </tr>\n  </thead>\n  <tbody>\n    <tr>\n      <th>count</th>\n      <td>891.000000</td>\n      <td>891.000000</td>\n      <td>891.000000</td>\n      <td>714.000000</td>\n      <td>891.000000</td>\n      <td>891.000000</td>\n      <td>891.000000</td>\n    </tr>\n    <tr>\n      <th>mean</th>\n      <td>446.000000</td>\n      <td>0.383838</td>\n      <td>2.308642</td>\n      <td>29.699118</td>\n      <td>0.523008</td>\n      <td>0.381594</td>\n      <td>32.204208</td>\n    </tr>\n    <tr>\n      <th>std</th>\n      <td>257.353842</td>\n      <td>0.486592</td>\n      <td>0.836071</td>\n      <td>14.526497</td>\n      <td>1.102743</td>\n      <td>0.806057</td>\n      <td>49.693429</td>\n    </tr>\n    <tr>\n      <th>min</th>\n      <td>1.000000</td>\n      <td>0.000000</td>\n      <td>1.000000</td>\n      <td>0.420000</td>\n      <td>0.000000</td>\n      <td>0.000000</td>\n      <td>0.000000</td>\n    </tr>\n    <tr>\n      <th>25%</th>\n      <td>223.500000</td>\n      <td>0.000000</td>\n      <td>2.000000</td>\n      <td>20.125000</td>\n      <td>0.000000</td>\n      <td>0.000000</td>\n      <td>7.910400</td>\n    </tr>\n    <tr>\n      <th>50%</th>\n      <td>446.000000</td>\n      <td>0.000000</td>\n      <td>3.000000</td>\n      <td>28.000000</td>\n      <td>0.000000</td>\n      <td>0.000000</td>\n      <td>14.454200</td>\n    </tr>\n    <tr>\n      <th>75%</th>\n      <td>668.500000</td>\n      <td>1.000000</td>\n      <td>3.000000</td>\n      <td>38.000000</td>\n      <td>1.000000</td>\n      <td>0.000000</td>\n      <td>31.000000</td>\n    </tr>\n    <tr>\n      <th>max</th>\n      <td>891.000000</td>\n      <td>1.000000</td>\n      <td>3.000000</td>\n      <td>80.000000</td>\n      <td>8.000000</td>\n      <td>6.000000</td>\n      <td>512.329200</td>\n    </tr>\n  </tbody>\n</table>\n</div>"
     },
     "execution_count": 4,
     "metadata": {},
     "output_type": "execute_result"
    }
   ]
  },
  {
   "cell_type": "code",
   "source": [
    "TData.info()"
   ],
   "metadata": {
    "colab": {
     "base_uri": "https://localhost:8080/"
    },
    "id": "nIT45PmJz910",
    "outputId": "d9c1e564-8665-4445-bfdc-4debb540b356"
   },
   "execution_count": 39,
   "outputs": [
    {
     "output_type": "stream",
     "name": "stdout",
     "text": [
      "<class 'pandas.core.frame.DataFrame'>\n",
      "RangeIndex: 891 entries, 0 to 890\n",
      "Data columns (total 12 columns):\n",
      " #   Column       Non-Null Count  Dtype  \n",
      "---  ------       --------------  -----  \n",
      " 0   PassengerId  891 non-null    int64  \n",
      " 1   Survived     891 non-null    int64  \n",
      " 2   Pclass       891 non-null    int64  \n",
      " 3   Name         891 non-null    object \n",
      " 4   Sex          891 non-null    object \n",
      " 5   Age          714 non-null    float64\n",
      " 6   SibSp        891 non-null    int64  \n",
      " 7   Parch        891 non-null    int64  \n",
      " 8   Ticket       891 non-null    object \n",
      " 9   Fare         891 non-null    float64\n",
      " 10  Cabin        204 non-null    object \n",
      " 11  Embarked     889 non-null    object \n",
      "dtypes: float64(2), int64(5), object(5)\n",
      "memory usage: 83.7+ KB\n"
     ]
    }
   ]
  },
  {
   "cell_type": "code",
   "source": [
    "# Counting NaN values in all columns\n",
    "TData.isna().sum()"
   ],
   "metadata": {
    "colab": {
     "base_uri": "https://localhost:8080/"
    },
    "id": "ud6ObudB0kh_",
    "outputId": "7c7d8507-6ade-4d11-b995-ccc067406643",
    "ExecuteTime": {
     "end_time": "2023-10-31T10:33:14.009486Z",
     "start_time": "2023-10-31T10:33:13.946735500Z"
    }
   },
   "execution_count": 5,
   "outputs": [
    {
     "data": {
      "text/plain": "PassengerId      0\nSurvived         0\nPclass           0\nName             0\nSex              0\nAge            177\nSibSp            0\nParch            0\nTicket           0\nFare             0\nCabin          687\nEmbarked         2\ndtype: int64"
     },
     "execution_count": 5,
     "metadata": {},
     "output_type": "execute_result"
    }
   ]
  },
  {
   "cell_type": "code",
   "source": [
    "# Feature Engineering\n",
    "# Filling/Removing Missing Values\n",
    "TData['Age'] = TData['Age'].fillna(TData['Age'].mean())\n",
    "TData['Embarked'] = TData['Embarked'].fillna(method='bfill')\n",
    "TData = TData.drop(['Cabin'],axis=1)\n",
    "TData = TData.drop(['Name','Ticket'],axis=1)"
   ],
   "metadata": {
    "id": "zawGlVii0rxF",
    "ExecuteTime": {
     "end_time": "2023-10-31T10:33:43.934840800Z",
     "start_time": "2023-10-31T10:33:43.864175700Z"
    }
   },
   "execution_count": 6,
   "outputs": [
    {
     "name": "stderr",
     "output_type": "stream",
     "text": [
      "C:\\Users\\dagbo\\AppData\\Local\\Temp\\ipykernel_2032\\3965465986.py:4: FutureWarning: Series.fillna with 'method' is deprecated and will raise in a future version. Use obj.ffill() or obj.bfill() instead.\n",
      "  TData['Embarked'] = TData['Embarked'].fillna(method='bfill')\n"
     ]
    }
   ]
  },
  {
   "cell_type": "code",
   "source": [
    "TData.isna().sum()"
   ],
   "metadata": {
    "colab": {
     "base_uri": "https://localhost:8080/"
    },
    "id": "ie50E1Rx1JuO",
    "outputId": "51a02ec3-9bad-4b2a-eb49-a942f0cd96c7",
    "ExecuteTime": {
     "end_time": "2023-10-31T10:42:15.802334600Z",
     "start_time": "2023-10-31T10:42:15.754469200Z"
    }
   },
   "execution_count": 10,
   "outputs": [
    {
     "data": {
      "text/plain": "PassengerId    0\nSurvived       0\nPclass         0\nAge            0\nSibSp          0\nParch          0\nFare           0\nSex_male       0\nEmbarked_Q     0\nEmbarked_S     0\ndtype: int64"
     },
     "execution_count": 10,
     "metadata": {},
     "output_type": "execute_result"
    }
   ]
  },
  {
   "cell_type": "code",
   "source": [
    "TData = pd.get_dummies(TData,columns=['Sex','Embarked'],drop_first=True)\n",
    "TData.head()"
   ],
   "metadata": {
    "colab": {
     "base_uri": "https://localhost:8080/",
     "height": 206
    },
    "id": "lHkJYbPw1uqo",
    "outputId": "066daeb9-532f-4787-a921-dd1ca48c6cb8",
    "ExecuteTime": {
     "end_time": "2023-10-31T10:42:02.047299400Z",
     "start_time": "2023-10-31T10:42:01.954333400Z"
    }
   },
   "execution_count": 9,
   "outputs": [
    {
     "data": {
      "text/plain": "   PassengerId  Survived  Pclass   Age  SibSp  Parch     Fare  Sex_male  \\\n0            1         0       3  22.0      1      0   7.2500      True   \n1            2         1       1  38.0      1      0  71.2833     False   \n2            3         1       3  26.0      0      0   7.9250     False   \n3            4         1       1  35.0      1      0  53.1000     False   \n4            5         0       3  35.0      0      0   8.0500      True   \n\n   Embarked_Q  Embarked_S  \n0       False        True  \n1       False       False  \n2       False        True  \n3       False        True  \n4       False        True  ",
      "text/html": "<div>\n<style scoped>\n    .dataframe tbody tr th:only-of-type {\n        vertical-align: middle;\n    }\n\n    .dataframe tbody tr th {\n        vertical-align: top;\n    }\n\n    .dataframe thead th {\n        text-align: right;\n    }\n</style>\n<table border=\"1\" class=\"dataframe\">\n  <thead>\n    <tr style=\"text-align: right;\">\n      <th></th>\n      <th>PassengerId</th>\n      <th>Survived</th>\n      <th>Pclass</th>\n      <th>Age</th>\n      <th>SibSp</th>\n      <th>Parch</th>\n      <th>Fare</th>\n      <th>Sex_male</th>\n      <th>Embarked_Q</th>\n      <th>Embarked_S</th>\n    </tr>\n  </thead>\n  <tbody>\n    <tr>\n      <th>0</th>\n      <td>1</td>\n      <td>0</td>\n      <td>3</td>\n      <td>22.0</td>\n      <td>1</td>\n      <td>0</td>\n      <td>7.2500</td>\n      <td>True</td>\n      <td>False</td>\n      <td>True</td>\n    </tr>\n    <tr>\n      <th>1</th>\n      <td>2</td>\n      <td>1</td>\n      <td>1</td>\n      <td>38.0</td>\n      <td>1</td>\n      <td>0</td>\n      <td>71.2833</td>\n      <td>False</td>\n      <td>False</td>\n      <td>False</td>\n    </tr>\n    <tr>\n      <th>2</th>\n      <td>3</td>\n      <td>1</td>\n      <td>3</td>\n      <td>26.0</td>\n      <td>0</td>\n      <td>0</td>\n      <td>7.9250</td>\n      <td>False</td>\n      <td>False</td>\n      <td>True</td>\n    </tr>\n    <tr>\n      <th>3</th>\n      <td>4</td>\n      <td>1</td>\n      <td>1</td>\n      <td>35.0</td>\n      <td>1</td>\n      <td>0</td>\n      <td>53.1000</td>\n      <td>False</td>\n      <td>False</td>\n      <td>True</td>\n    </tr>\n    <tr>\n      <th>4</th>\n      <td>5</td>\n      <td>0</td>\n      <td>3</td>\n      <td>35.0</td>\n      <td>0</td>\n      <td>0</td>\n      <td>8.0500</td>\n      <td>True</td>\n      <td>False</td>\n      <td>True</td>\n    </tr>\n  </tbody>\n</table>\n</div>"
     },
     "execution_count": 9,
     "metadata": {},
     "output_type": "execute_result"
    }
   ]
  },
  {
   "cell_type": "code",
   "source": [
    "#since we're trying to know which passengers survived and which did not, we will drop the Survived column from X\n",
    "# Separating target column from X into y\n",
    "X = TData.drop(['Survived'],axis=1)\n",
    "y = TData['Survived']"
   ],
   "metadata": {
    "id": "XBZ2PB8f2cSa",
    "ExecuteTime": {
     "end_time": "2023-10-31T10:49:48.547309300Z",
     "start_time": "2023-10-31T10:49:48.499296500Z"
    }
   },
   "execution_count": 13,
   "outputs": []
  },
  {
   "cell_type": "code",
   "source": [
    "# Train Test Split\n",
    "from sklearn.model_selection import train_test_split\n",
    "X_train,X_test,y_train,y_test = train_test_split(X,y,test_size=0.2,random_state=21)"
   ],
   "metadata": {
    "id": "PnfSx4Zu2i55",
    "ExecuteTime": {
     "end_time": "2023-10-31T10:50:26.743050600Z",
     "start_time": "2023-10-31T10:50:26.711277400Z"
    }
   },
   "execution_count": 14,
   "outputs": []
  },
  {
   "cell_type": "code",
   "source": [
    "# Standardizing the data\n",
    "from sklearn.preprocessing import StandardScaler\n",
    "scaler = StandardScaler()\n",
    "X_train = scaler.fit_transform(X_train)\n",
    "X_test = scaler.transform(X_test)\n",
    "\n",
    "X_train = pd.DataFrame(X_train, columns=X.columns)\n",
    "X_test = pd.DataFrame(X_test, columns=X.columns)"
   ],
   "metadata": {
    "id": "Yb7aCKYf22N6",
    "ExecuteTime": {
     "end_time": "2023-10-31T11:02:54.258119700Z",
     "start_time": "2023-10-31T11:02:54.226516800Z"
    }
   },
   "execution_count": 15,
   "outputs": []
  },
  {
   "cell_type": "code",
   "source": [
    "display(X_train.head())\n",
    "display(X_test.head())"
   ],
   "metadata": {
    "colab": {
     "base_uri": "https://localhost:8080/",
     "height": 395
    },
    "id": "__KfQyTN27W7",
    "outputId": "8d1cec2c-fa39-4d58-90ae-3566c3d2451d",
    "ExecuteTime": {
     "end_time": "2023-10-31T11:03:10.786719700Z",
     "start_time": "2023-10-31T11:03:10.735779100Z"
    }
   },
   "execution_count": 16,
   "outputs": [
    {
     "data": {
      "text/plain": "   PassengerId    Pclass       Age     SibSp     Parch      Fare  Sex_male  \\\n0     1.360492 -1.584396  0.010681 -0.479698 -0.460682 -0.018600  0.728823   \n1    -1.632266 -1.584396 -0.119643 -0.479698 -0.460682  0.079245  0.728823   \n2    -1.344650 -1.584396 -0.503148 -0.479698  0.810657  0.646624  0.728823   \n3    -1.686680 -0.381742 -1.193456  0.493365 -0.460682 -0.031329 -1.372075   \n4    -1.111449  0.820913  0.033758 -0.479698 -0.460682 -0.479818  0.728823   \n\n   Embarked_Q  Embarked_S  \n0   -0.311564   -1.611198  \n1   -0.311564    0.620656  \n2   -0.311564   -1.611198  \n3   -0.311564   -1.611198  \n4   -0.311564    0.620656  ",
      "text/html": "<div>\n<style scoped>\n    .dataframe tbody tr th:only-of-type {\n        vertical-align: middle;\n    }\n\n    .dataframe tbody tr th {\n        vertical-align: top;\n    }\n\n    .dataframe thead th {\n        text-align: right;\n    }\n</style>\n<table border=\"1\" class=\"dataframe\">\n  <thead>\n    <tr style=\"text-align: right;\">\n      <th></th>\n      <th>PassengerId</th>\n      <th>Pclass</th>\n      <th>Age</th>\n      <th>SibSp</th>\n      <th>Parch</th>\n      <th>Fare</th>\n      <th>Sex_male</th>\n      <th>Embarked_Q</th>\n      <th>Embarked_S</th>\n    </tr>\n  </thead>\n  <tbody>\n    <tr>\n      <th>0</th>\n      <td>1.360492</td>\n      <td>-1.584396</td>\n      <td>0.010681</td>\n      <td>-0.479698</td>\n      <td>-0.460682</td>\n      <td>-0.018600</td>\n      <td>0.728823</td>\n      <td>-0.311564</td>\n      <td>-1.611198</td>\n    </tr>\n    <tr>\n      <th>1</th>\n      <td>-1.632266</td>\n      <td>-1.584396</td>\n      <td>-0.119643</td>\n      <td>-0.479698</td>\n      <td>-0.460682</td>\n      <td>0.079245</td>\n      <td>0.728823</td>\n      <td>-0.311564</td>\n      <td>0.620656</td>\n    </tr>\n    <tr>\n      <th>2</th>\n      <td>-1.344650</td>\n      <td>-1.584396</td>\n      <td>-0.503148</td>\n      <td>-0.479698</td>\n      <td>0.810657</td>\n      <td>0.646624</td>\n      <td>0.728823</td>\n      <td>-0.311564</td>\n      <td>-1.611198</td>\n    </tr>\n    <tr>\n      <th>3</th>\n      <td>-1.686680</td>\n      <td>-0.381742</td>\n      <td>-1.193456</td>\n      <td>0.493365</td>\n      <td>-0.460682</td>\n      <td>-0.031329</td>\n      <td>-1.372075</td>\n      <td>-0.311564</td>\n      <td>-1.611198</td>\n    </tr>\n    <tr>\n      <th>4</th>\n      <td>-1.111449</td>\n      <td>0.820913</td>\n      <td>0.033758</td>\n      <td>-0.479698</td>\n      <td>-0.460682</td>\n      <td>-0.479818</td>\n      <td>0.728823</td>\n      <td>-0.311564</td>\n      <td>0.620656</td>\n    </tr>\n  </tbody>\n</table>\n</div>"
     },
     "metadata": {},
     "output_type": "display_data"
    },
    {
     "data": {
      "text/plain": "   PassengerId    Pclass       Age     SibSp     Parch      Fare  Sex_male  \\\n0     0.676433  0.820913 -0.273045  0.493365 -0.460682 -0.315867 -1.372075   \n1    -0.248601  0.820913 -0.809952 -0.479698 -0.460682 -0.485419  0.728823   \n2     1.096196  0.820913 -0.733251 -0.479698 -0.460682 -0.467343  0.728823   \n3     1.488753  0.820913  0.010681 -0.479698 -0.460682  0.506858  0.728823   \n4     0.027354 -0.381742  0.493964  0.493365  2.081997 -0.078596  0.728823   \n\n   Embarked_Q  Embarked_S  \n0   -0.311564    0.620656  \n1   -0.311564    0.620656  \n2   -0.311564    0.620656  \n3   -0.311564    0.620656  \n4   -0.311564    0.620656  ",
      "text/html": "<div>\n<style scoped>\n    .dataframe tbody tr th:only-of-type {\n        vertical-align: middle;\n    }\n\n    .dataframe tbody tr th {\n        vertical-align: top;\n    }\n\n    .dataframe thead th {\n        text-align: right;\n    }\n</style>\n<table border=\"1\" class=\"dataframe\">\n  <thead>\n    <tr style=\"text-align: right;\">\n      <th></th>\n      <th>PassengerId</th>\n      <th>Pclass</th>\n      <th>Age</th>\n      <th>SibSp</th>\n      <th>Parch</th>\n      <th>Fare</th>\n      <th>Sex_male</th>\n      <th>Embarked_Q</th>\n      <th>Embarked_S</th>\n    </tr>\n  </thead>\n  <tbody>\n    <tr>\n      <th>0</th>\n      <td>0.676433</td>\n      <td>0.820913</td>\n      <td>-0.273045</td>\n      <td>0.493365</td>\n      <td>-0.460682</td>\n      <td>-0.315867</td>\n      <td>-1.372075</td>\n      <td>-0.311564</td>\n      <td>0.620656</td>\n    </tr>\n    <tr>\n      <th>1</th>\n      <td>-0.248601</td>\n      <td>0.820913</td>\n      <td>-0.809952</td>\n      <td>-0.479698</td>\n      <td>-0.460682</td>\n      <td>-0.485419</td>\n      <td>0.728823</td>\n      <td>-0.311564</td>\n      <td>0.620656</td>\n    </tr>\n    <tr>\n      <th>2</th>\n      <td>1.096196</td>\n      <td>0.820913</td>\n      <td>-0.733251</td>\n      <td>-0.479698</td>\n      <td>-0.460682</td>\n      <td>-0.467343</td>\n      <td>0.728823</td>\n      <td>-0.311564</td>\n      <td>0.620656</td>\n    </tr>\n    <tr>\n      <th>3</th>\n      <td>1.488753</td>\n      <td>0.820913</td>\n      <td>0.010681</td>\n      <td>-0.479698</td>\n      <td>-0.460682</td>\n      <td>0.506858</td>\n      <td>0.728823</td>\n      <td>-0.311564</td>\n      <td>0.620656</td>\n    </tr>\n    <tr>\n      <th>4</th>\n      <td>0.027354</td>\n      <td>-0.381742</td>\n      <td>0.493964</td>\n      <td>0.493365</td>\n      <td>2.081997</td>\n      <td>-0.078596</td>\n      <td>0.728823</td>\n      <td>-0.311564</td>\n      <td>0.620656</td>\n    </tr>\n  </tbody>\n</table>\n</div>"
     },
     "metadata": {},
     "output_type": "display_data"
    }
   ]
  },
  {
   "cell_type": "code",
   "source": [
    "\n",
    "# LogisticRegression Model Implementation\n",
    "from sklearn.metrics import accuracy_score, f1_score, confusion_matrix, roc_curve, roc_auc_score\n",
    "# Logistic Regression\n",
    "from sklearn.linear_model import LogisticRegression\n",
    "logreg = LogisticRegression()\n",
    "logreg.fit(X_train, y_train)\n",
    "Y_pred = logreg.predict(X_test)\n",
    "\n",
    "log_train = round(logreg.score(X_train, y_train) * 100, 2)\n",
    "log_accuracy = round(accuracy_score(Y_pred, y_test) * 100, 2)\n",
    "f1_score = f1_score(y_test, Y_pred)\n",
    "cnf_matrix = confusion_matrix(y_test, Y_pred)\n",
    "\n",
    "print(\"Training Accuracy    :\",log_train)\n",
    "print(\"Model Accuracy Score :\",log_accuracy)\n",
    "print(\"Model F1 Score :\",f1_score)\n",
    "print(cnf_matrix)"
   ],
   "metadata": {
    "colab": {
     "base_uri": "https://localhost:8080/"
    },
    "id": "NhFASC7w3Kvm",
    "outputId": "cfc34ccc-0d07-4305-be9e-126f13110e6e",
    "ExecuteTime": {
     "end_time": "2023-10-31T11:16:52.680022100Z",
     "start_time": "2023-10-31T11:16:52.632513Z"
    }
   },
   "execution_count": 17,
   "outputs": [
    {
     "name": "stdout",
     "output_type": "stream",
     "text": [
      "Training Accuracy    : 80.2\n",
      "Model Accuracy Score : 79.89\n",
      "Model F1 Score : 0.7391304347826088\n",
      "[[92 13]\n",
      " [23 51]]\n"
     ]
    }
   ]
  },
  {
   "cell_type": "code",
   "source": [
    "# Visualizing Confusion Matrix using Heatmap\n",
    "class_names=[0,1] # name  of classes\n",
    "fig, ax = plt.subplots()\n",
    "tick_marks = np.arange(len(class_names))\n",
    "plt.xticks(tick_marks, class_names)\n",
    "plt.yticks(tick_marks, class_names)\n",
    "# create heatmap\n",
    "sns.heatmap(pd.DataFrame(cnf_matrix), annot=True, cmap=\"YlGnBu\" ,fmt='g')\n",
    "ax.xaxis.set_label_position(\"top\")\n",
    "plt.tight_layout()\n",
    "plt.title('Confusion matrix', y=1.1)\n",
    "plt.ylabel('Actual label')\n",
    "plt.xlabel('Predicted label')"
   ],
   "metadata": {
    "colab": {
     "base_uri": "https://localhost:8080/",
     "height": 569
    },
    "id": "aw28JYcM37UO",
    "outputId": "7a3d06d1-83bf-4f40-da08-eeba3a7614dc",
    "ExecuteTime": {
     "end_time": "2023-10-31T11:22:55.701513700Z",
     "start_time": "2023-10-31T11:22:55.184529300Z"
    }
   },
   "execution_count": 18,
   "outputs": [
    {
     "data": {
      "text/plain": "Text(0.5, 427.9555555555555, 'Predicted label')"
     },
     "execution_count": 18,
     "metadata": {},
     "output_type": "execute_result"
    },
    {
     "data": {
      "text/plain": "<Figure size 640x480 with 2 Axes>",
      "image/png": "[encoded data removed]"
     },
     "metadata": {},
     "output_type": "display_data"
    }
   ]
  },
  {
   "cell_type": "code",
   "source": [
    "# Visualizing 'ROC' curve\n",
    "%matplotlib inline\n",
    "\n",
    "y_scores = logreg.predict_proba(X_test)\n",
    "fpr, tpr, thresholds = roc_curve(y_test, y_scores[:,1])\n",
    "\n",
    "fig = plt.figure(figsize=(6, 6))\n",
    "plt.plot([0, 1], [0, 1], 'k--')\n",
    "plt.plot(fpr, tpr)\n",
    "plt.xlabel('False Positive Rate')\n",
    "plt.ylabel('True Positive Rate')\n",
    "plt.title('ROC Curve')\n",
    "plt.show()"
   ],
   "metadata": {
    "colab": {
     "base_uri": "https://localhost:8080/",
     "height": 564
    },
    "id": "hjRjskYx6hxz",
    "outputId": "d53decb9-e279-47ca-c85a-3529ec52f929",
    "ExecuteTime": {
     "end_time": "2023-10-31T11:34:12.140098900Z",
     "start_time": "2023-10-31T11:34:11.794565400Z"
    }
   },
   "execution_count": 19,
   "outputs": [
    {
     "data": {
      "text/plain": "<Figure size 600x600 with 1 Axes>",
      "image/png": "[encoded data removed]"
     },
     "metadata": {},
     "output_type": "display_data"
    }
   ]
  },
  {
   "cell_type": "code",
   "execution_count": 20,
   "outputs": [
    {
     "data": {
      "text/plain": "0.858944658944659"
     },
     "execution_count": 20,
     "metadata": {},
     "output_type": "execute_result"
    }
   ],
   "source": [
    "# Visualizing 'ROC AUC' curve\n",
    "roc_auc_score(y_test, y_scores[:,1])\n"
   ],
   "metadata": {
    "collapsed": false,
    "ExecuteTime": {
     "end_time": "2023-10-31T11:34:31.134236600Z",
     "start_time": "2023-10-31T11:34:31.070786300Z"
    }
   }
  },
  {
   "cell_type": "code",
   "execution_count": null,
   "outputs": [],
   "source": [],
   "metadata": {
    "collapsed": false
   }
  }
 ]
}
